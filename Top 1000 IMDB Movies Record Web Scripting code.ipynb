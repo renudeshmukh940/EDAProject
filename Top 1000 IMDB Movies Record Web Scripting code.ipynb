{
 "cells": [
  {
   "cell_type": "code",
   "execution_count": 1,
   "id": "88091e9e",
   "metadata": {},
   "outputs": [],
   "source": [
    "import pandas as pd\n",
    "import numpy as np\n",
    "import requests\n",
    "from bs4 import BeautifulSoup\n",
    "from time import sleep\n",
    "from random import randint"
   ]
  },
  {
   "cell_type": "code",
   "execution_count": 2,
   "id": "04a5df22",
   "metadata": {},
   "outputs": [],
   "source": [
    "headers={\"Accept-Language\":\"en-US,en;q=0.5\"}"
   ]
  },
  {
   "cell_type": "code",
   "execution_count": 3,
   "id": "295c3c2c",
   "metadata": {},
   "outputs": [],
   "source": [
    "movie_name=[]\n",
    "year=[]\n",
    "time=[]\n",
    "rating=[]\n",
    "metascore=[]\n",
    "votes=[]\n",
    "gross=[]"
   ]
  },
  {
   "cell_type": "code",
   "execution_count": 4,
   "id": "b6b72e68",
   "metadata": {},
   "outputs": [],
   "source": [
    "pages=np.arange(1,1000,50)"
   ]
  },
  {
   "cell_type": "code",
   "execution_count": 5,
   "id": "5cf49404",
   "metadata": {},
   "outputs": [],
   "source": [
    "for page in pages:\n",
    "    page=requests.get(\"https://www.imdb.com/search/title/?title_type=feature&num_votes=10000,&sort=user_rating,desc&start=+str(page)&ref_=adv_nxt\")\n",
    "    soup=BeautifulSoup(page.text,'html.parser')\n",
    "    movie_data = soup.findAll('div',attrs={'class':'lister-item mode-advanced'})\n",
    "    sleep(randint(2,8))\n",
    "    for store in movie_data:\n",
    "        name=store.h3.a.text\n",
    "        movie_name.append(name)\n",
    "        \n",
    "        year_of_release=store.h3.find('span',class_=\"lister-item-year text-muted unbold\").text\n",
    "        year.append(year_of_release)\n",
    "        \n",
    "        runtime=store.p.find('span',class_=\"runtime\").text\n",
    "        time.append(runtime)\n",
    "        \n",
    "        rate=store.find('div',class_=\"inline-block ratings-imdb-rating\").text\n",
    "        rating.append(rate)\n",
    "        \n",
    "        meta=store.find('span',class_=\"metascore\").text if store.find('span',class_=\"metascore\") else \"****\"\n",
    "        metascore.append(meta)\n",
    "        \n",
    "        value=store.find_all('span',attrs={'name':'nv'})\n",
    "        \n",
    "        vote=value[0].text\n",
    "        votes.append(vote)\n",
    "        \n",
    "        grosses=value[1].text if len(value)>1 else '%^%^%'\n",
    "        gross.append(grosses)\n",
    "        \n",
    "movie_list = pd.DataFrame({ \"Movie Name\": movie_name, \"Year of Release\" : year, \"Watch Time\": time,\"Movie Rating\": rating, \"Meatscore of movie\": metascore, \"Votes\" : votes, \"Gross\": gross })\n"
   ]
  },
  {
   "cell_type": "code",
   "execution_count": 6,
   "id": "79ae8271",
   "metadata": {},
   "outputs": [
    {
     "data": {
      "text/html": [
       "<div>\n",
       "<style scoped>\n",
       "    .dataframe tbody tr th:only-of-type {\n",
       "        vertical-align: middle;\n",
       "    }\n",
       "\n",
       "    .dataframe tbody tr th {\n",
       "        vertical-align: top;\n",
       "    }\n",
       "\n",
       "    .dataframe thead th {\n",
       "        text-align: right;\n",
       "    }\n",
       "</style>\n",
       "<table border=\"1\" class=\"dataframe\">\n",
       "  <thead>\n",
       "    <tr style=\"text-align: right;\">\n",
       "      <th></th>\n",
       "      <th>Movie Name</th>\n",
       "      <th>Year of Release</th>\n",
       "      <th>Watch Time</th>\n",
       "      <th>Movie Rating</th>\n",
       "      <th>Meatscore of movie</th>\n",
       "      <th>Votes</th>\n",
       "      <th>Gross</th>\n",
       "    </tr>\n",
       "  </thead>\n",
       "  <tbody>\n",
       "    <tr>\n",
       "      <th>0</th>\n",
       "      <td>The Shawshank Redemption</td>\n",
       "      <td>(1994)</td>\n",
       "      <td>142 min</td>\n",
       "      <td>\\n\\n9.3\\n</td>\n",
       "      <td>82</td>\n",
       "      <td>2,725,194</td>\n",
       "      <td>$28.34M</td>\n",
       "    </tr>\n",
       "    <tr>\n",
       "      <th>1</th>\n",
       "      <td>The Godfather</td>\n",
       "      <td>(1972)</td>\n",
       "      <td>175 min</td>\n",
       "      <td>\\n\\n9.2\\n</td>\n",
       "      <td>100</td>\n",
       "      <td>1,894,443</td>\n",
       "      <td>$134.97M</td>\n",
       "    </tr>\n",
       "    <tr>\n",
       "      <th>2</th>\n",
       "      <td>Hababam Sinifi</td>\n",
       "      <td>(1975)</td>\n",
       "      <td>87 min</td>\n",
       "      <td>\\n\\n9.2\\n</td>\n",
       "      <td>****</td>\n",
       "      <td>41,538</td>\n",
       "      <td>%^%^%</td>\n",
       "    </tr>\n",
       "    <tr>\n",
       "      <th>3</th>\n",
       "      <td>DAMaN</td>\n",
       "      <td>(2022)</td>\n",
       "      <td>121 min</td>\n",
       "      <td>\\n\\n9.1\\n</td>\n",
       "      <td>****</td>\n",
       "      <td>13,162</td>\n",
       "      <td>%^%^%</td>\n",
       "    </tr>\n",
       "    <tr>\n",
       "      <th>4</th>\n",
       "      <td>The Dark Knight</td>\n",
       "      <td>(2008)</td>\n",
       "      <td>152 min</td>\n",
       "      <td>\\n\\n9.0\\n</td>\n",
       "      <td>84</td>\n",
       "      <td>2,698,044</td>\n",
       "      <td>$534.86M</td>\n",
       "    </tr>\n",
       "  </tbody>\n",
       "</table>\n",
       "</div>"
      ],
      "text/plain": [
       "                 Movie Name Year of Release Watch Time Movie Rating  \\\n",
       "0  The Shawshank Redemption          (1994)    142 min    \\n\\n9.3\\n   \n",
       "1             The Godfather          (1972)    175 min    \\n\\n9.2\\n   \n",
       "2            Hababam Sinifi          (1975)     87 min    \\n\\n9.2\\n   \n",
       "3                     DAMaN          (2022)    121 min    \\n\\n9.1\\n   \n",
       "4           The Dark Knight          (2008)    152 min    \\n\\n9.0\\n   \n",
       "\n",
       "  Meatscore of movie      Votes     Gross  \n",
       "0         82          2,725,194   $28.34M  \n",
       "1        100          1,894,443  $134.97M  \n",
       "2               ****     41,538     %^%^%  \n",
       "3               ****     13,162     %^%^%  \n",
       "4         84          2,698,044  $534.86M  "
      ]
     },
     "execution_count": 6,
     "metadata": {},
     "output_type": "execute_result"
    }
   ],
   "source": [
    "movie_list.head(5)"
   ]
  },
  {
   "cell_type": "code",
   "execution_count": 7,
   "id": "0ff80c68",
   "metadata": {},
   "outputs": [],
   "source": [
    "movie_list.to_excel(\"Top 1000 IMDB movies.xlsx\")\n"
   ]
  },
  {
   "cell_type": "code",
   "execution_count": 8,
   "id": "fab0e12d",
   "metadata": {},
   "outputs": [],
   "source": [
    "movie_list.to_csv(\"Top 1000 IMDB Movies Record.csv\")"
   ]
  },
  {
   "cell_type": "code",
   "execution_count": null,
   "id": "3fee827e",
   "metadata": {},
   "outputs": [],
   "source": []
  },
  {
   "cell_type": "code",
   "execution_count": null,
   "id": "31b1d648",
   "metadata": {},
   "outputs": [],
   "source": []
  }
 ],
 "metadata": {
  "kernelspec": {
   "display_name": "Python 3 (ipykernel)",
   "language": "python",
   "name": "python3"
  },
  "language_info": {
   "codemirror_mode": {
    "name": "ipython",
    "version": 3
   },
   "file_extension": ".py",
   "mimetype": "text/x-python",
   "name": "python",
   "nbconvert_exporter": "python",
   "pygments_lexer": "ipython3",
   "version": "3.9.13"
  }
 },
 "nbformat": 4,
 "nbformat_minor": 5
}
